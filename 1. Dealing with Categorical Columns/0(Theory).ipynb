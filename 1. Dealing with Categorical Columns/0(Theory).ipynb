{
 "cells": [
  {
   "cell_type": "markdown",
   "metadata": {},
   "source": [
    "Encoding Techniques\n",
    "\n",
    "Encoding data means converting categorical data into numerical data.\n",
    "\n",
    "1) Label Encoding\n",
    "2) Feature Encoding\n",
    "3) One Hot Encoding\n",
    "4) Binary Encoding\n",
    "5) BaseN Encoding\n",
    "6) Target Encoding"
   ]
  },
  {
   "cell_type": "markdown",
   "metadata": {},
   "source": [
    "Label Encoding\n",
    "\n",
    "- Each category is assigned a value 1 thorugh N\n",
    "\n",
    "- where N is the number of categories in the column."
   ]
  },
  {
   "cell_type": "markdown",
   "metadata": {},
   "source": [
    "Feature Mapping\n",
    "\n",
    "- A feature mapping is a function which maps a data vector to a feature space.\n",
    "\n",
    "- It is used in the case of ordinal variables."
   ]
  },
  {
   "cell_type": "markdown",
   "metadata": {},
   "source": [
    "One Hot Encoding\n",
    "\n",
    "- We map each category to a vector that contains 1 or 0. \n",
    "\n",
    "- The number of vectors depend on the number of categories."
   ]
  },
  {
   "cell_type": "markdown",
   "metadata": {},
   "source": [
    "Binary Encoding\n",
    "\n",
    "- It converts a category into a binary digits.\n",
    "\n",
    "- Each binary digit creates one feature column."
   ]
  },
  {
   "cell_type": "markdown",
   "metadata": {},
   "source": [
    "BaseN Encoding\n",
    "\n",
    "- Generalisingthe value of N in log base N, we get BaseN Encoding.\n",
    "\n",
    "- When our Base is 1, it is One hot encoding.\n",
    "\n",
    "- When our Base is 2, it is Binary encoding.\n",
    "\n",
    "- If we want a higher base, we can use BaseN encoding, which can be used for columns where we have huge number of distinct values."
   ]
  },
  {
   "cell_type": "markdown",
   "metadata": {},
   "source": [
    "Target Encoding\n",
    "\n",
    "- Process of replacing a categorical value with any of the aggregation of the target variable."
   ]
  },
  {
   "cell_type": "code",
   "execution_count": null,
   "metadata": {},
   "outputs": [],
   "source": []
  },
  {
   "cell_type": "markdown",
   "metadata": {},
   "source": [
    "**Label encoding is used for both ordinal as well as nominal variables whereas feature encoding is used for only ordinal variables.**"
   ]
  },
  {
   "cell_type": "code",
   "execution_count": null,
   "metadata": {},
   "outputs": [],
   "source": []
  }
 ],
 "metadata": {
  "kernelspec": {
   "display_name": "Python 3",
   "language": "python",
   "name": "python3"
  },
  "language_info": {
   "codemirror_mode": {
    "name": "ipython",
    "version": 3
   },
   "file_extension": ".py",
   "mimetype": "text/x-python",
   "name": "python",
   "nbconvert_exporter": "python",
   "pygments_lexer": "ipython3",
   "version": "3.8.5"
  }
 },
 "nbformat": 4,
 "nbformat_minor": 4
}
