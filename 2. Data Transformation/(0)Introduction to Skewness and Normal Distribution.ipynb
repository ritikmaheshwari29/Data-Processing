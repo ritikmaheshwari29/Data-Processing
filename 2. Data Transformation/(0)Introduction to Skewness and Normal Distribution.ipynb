{
 "cells": [
  {
   "cell_type": "markdown",
   "metadata": {},
   "source": [
    "## Introduction to Skewness and Normal Distribution"
   ]
  },
  {
   "cell_type": "markdown",
   "metadata": {},
   "source": [
    "### Normal Distribution\n",
    "- It is a type of continuous probability distribution.\n",
    "- It is symmetric about its mean, median and mode.\n",
    "\n",
    "\n",
    "- Normal distribution appears as a bell curve shape.\n",
    "- 68.27% of data lies between 1 standard deviation.\n",
    "- 95.45% of data lies between 2 standard deviation.\n",
    "- 99.73% of data lies between 3 standard deviation."
   ]
  },
  {
   "cell_type": "code",
   "execution_count": null,
   "metadata": {},
   "outputs": [],
   "source": []
  },
  {
   "cell_type": "markdown",
   "metadata": {},
   "source": [
    "## Skewness"
   ]
  },
  {
   "cell_type": "markdown",
   "metadata": {},
   "source": [
    "- Skewness is an asymmetry in a statistical distribution in which the curve appears distorted or skewed either to the left or to the right.\n",
    "- It can be quantified to define the extent to which a distribution differs from the normal distribution."
   ]
  },
  {
   "cell_type": "markdown",
   "metadata": {},
   "source": [
    "**Negatively Skewed**\n",
    "- When a distribution is skewed to the left, then the tail on the left hand side is longer than the tail on right hand side.\n",
    "- And the mean is less than the mode."
   ]
  },
  {
   "cell_type": "markdown",
   "metadata": {},
   "source": [
    "**Positively Skewed**\n",
    "- When a distribution is skewed to the right, then the tail on the curves right hand side is longer than the tail on left hand side.\n",
    "- And the mean is greater than the mode."
   ]
  },
  {
   "cell_type": "code",
   "execution_count": null,
   "metadata": {},
   "outputs": [],
   "source": []
  }
 ],
 "metadata": {
  "kernelspec": {
   "display_name": "Python 3",
   "language": "python",
   "name": "python3"
  },
  "language_info": {
   "codemirror_mode": {
    "name": "ipython",
    "version": 3
   },
   "file_extension": ".py",
   "mimetype": "text/x-python",
   "name": "python",
   "nbconvert_exporter": "python",
   "pygments_lexer": "ipython3",
   "version": "3.8.5"
  }
 },
 "nbformat": 4,
 "nbformat_minor": 4
}
